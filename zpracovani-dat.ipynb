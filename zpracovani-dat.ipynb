{
 "cells": [
  {
   "cell_type": "code",
   "execution_count": 131,
   "metadata": {
    "collapsed": true
   },
   "outputs": [],
   "source": [
    "import pandas as pd"
   ]
  },
  {
   "cell_type": "code",
   "execution_count": 132,
   "metadata": {
    "collapsed": true
   },
   "outputs": [],
   "source": [
    "hazard = pd.read_excel('data/Prehled_2015-10-31_Loterie-Prehled-THZ-CR.xlsx', header=1)"
   ]
  },
  {
   "cell_type": "code",
   "execution_count": 133,
   "metadata": {
    "collapsed": false
   },
   "outputs": [],
   "source": [
    "novela = pd.read_csv('data/novela_tbl.csv', encoding='utf-8')"
   ]
  },
  {
   "cell_type": "code",
   "execution_count": 134,
   "metadata": {
    "collapsed": false
   },
   "outputs": [],
   "source": [
    "hazard = hazard[hazard.Obec == 'Praha']"
   ]
  },
  {
   "cell_type": "code",
   "execution_count": 135,
   "metadata": {
    "collapsed": false
   },
   "outputs": [],
   "source": [
    "hazard['addr'] = hazard.apply(lambda row: row['Ulice'] + ' ' + str(row['Č.p.']).split('.')[0], axis=1)"
   ]
  },
  {
   "cell_type": "code",
   "execution_count": 136,
   "metadata": {
    "collapsed": false
   },
   "outputs": [],
   "source": [
    "novela['addr'] = novela.apply(lambda row: row['ulice'].strip() + ' ' + str(row['cp_co']).split('/')[0], axis=1)"
   ]
  },
  {
   "cell_type": "code",
   "execution_count": 137,
   "metadata": {
    "collapsed": false
   },
   "outputs": [],
   "source": [
    "haz = pd.DataFrame(hazard.addr.value_counts())"
   ]
  },
  {
   "cell_type": "code",
   "execution_count": 138,
   "metadata": {
    "collapsed": false
   },
   "outputs": [],
   "source": [
    "haz.reset_index(inplace=True)"
   ]
  },
  {
   "cell_type": "code",
   "execution_count": 139,
   "metadata": {
    "collapsed": false
   },
   "outputs": [],
   "source": [
    "haz.rename(columns={'index': 'addr', 0: 'pocet_her'}, inplace=True)"
   ]
  },
  {
   "cell_type": "code",
   "execution_count": 140,
   "metadata": {
    "collapsed": false
   },
   "outputs": [],
   "source": [
    "povolene = haz.merge(novela, on='addr', how='left')"
   ]
  },
  {
   "cell_type": "code",
   "execution_count": 148,
   "metadata": {
    "collapsed": true
   },
   "outputs": [],
   "source": [
    "povolene.to_csv('data/praha_hry.csv', encoding='utf-8')"
   ]
  },
  {
   "cell_type": "code",
   "execution_count": 144,
   "metadata": {
    "collapsed": false
   },
   "outputs": [],
   "source": [
    "test = novela.merge(haz, on='addr', how='left')"
   ]
  },
  {
   "cell_type": "code",
   "execution_count": 150,
   "metadata": {
    "collapsed": false
   },
   "outputs": [
    {
     "data": {
      "text/html": [
       "<div>\n",
       "<table border=\"1\" class=\"dataframe\">\n",
       "  <thead>\n",
       "    <tr style=\"text-align: right;\">\n",
       "      <th></th>\n",
       "      <th>fid</th>\n",
       "      <th>ulice</th>\n",
       "      <th>cp_co</th>\n",
       "      <th>ku</th>\n",
       "      <th>cas</th>\n",
       "      <th>addr</th>\n",
       "      <th>pocet_her</th>\n",
       "    </tr>\n",
       "  </thead>\n",
       "  <tbody>\n",
       "    <tr>\n",
       "      <th>0</th>\n",
       "      <td>1</td>\n",
       "      <td>Masarykovo nádraží</td>\n",
       "      <td>NaN</td>\n",
       "      <td>k.ú. Nové Město, parc.č.  2534/1</td>\n",
       "      <td>bez omezení</td>\n",
       "      <td>Masarykovo nádraží nan</td>\n",
       "      <td>NaN</td>\n",
       "    </tr>\n",
       "    <tr>\n",
       "      <th>1</th>\n",
       "      <td>2</td>\n",
       "      <td>Na Florenci</td>\n",
       "      <td>1412/29</td>\n",
       "      <td>NaN</td>\n",
       "      <td>bez omezení</td>\n",
       "      <td>Na Florenci 1412</td>\n",
       "      <td>NaN</td>\n",
       "    </tr>\n",
       "    <tr>\n",
       "      <th>3</th>\n",
       "      <td>4</td>\n",
       "      <td>Na poříčí</td>\n",
       "      <td>1052/42</td>\n",
       "      <td>NaN</td>\n",
       "      <td>bez omezení</td>\n",
       "      <td>Na poříčí 1052</td>\n",
       "      <td>NaN</td>\n",
       "    </tr>\n",
       "    <tr>\n",
       "      <th>49</th>\n",
       "      <td>50</td>\n",
       "      <td>Freyova</td>\n",
       "      <td>945/33</td>\n",
       "      <td>NaN</td>\n",
       "      <td>bez omezení</td>\n",
       "      <td>Freyova 945</td>\n",
       "      <td>NaN</td>\n",
       "    </tr>\n",
       "  </tbody>\n",
       "</table>\n",
       "</div>"
      ],
      "text/plain": [
       "    fid               ulice    cp_co                                     ku  \\\n",
       "0     1  Masarykovo nádraží      NaN  k.ú. Nové Město, parc.č.  2534/1        \n",
       "1     2         Na Florenci  1412/29                                    NaN   \n",
       "3     4           Na poříčí  1052/42                                    NaN   \n",
       "49   50             Freyova   945/33                                    NaN   \n",
       "\n",
       "            cas                    addr  pocet_her  \n",
       "0   bez omezení  Masarykovo nádraží nan        NaN  \n",
       "1   bez omezení        Na Florenci 1412        NaN  \n",
       "3   bez omezení          Na poříčí 1052        NaN  \n",
       "49  bez omezení             Freyova 945        NaN  "
      ]
     },
     "execution_count": 150,
     "metadata": {},
     "output_type": "execute_result"
    }
   ],
   "source": [
    "test[test.pocet_her != test.pocet_her]#.to_csv('data/praha_chybejici_hry.csv', encoding='utf-8')"
   ]
  }
 ],
 "metadata": {
  "kernelspec": {
   "display_name": "Python 3",
   "language": "python",
   "name": "python3"
  },
  "language_info": {
   "codemirror_mode": {
    "name": "ipython",
    "version": 3
   },
   "file_extension": ".py",
   "mimetype": "text/x-python",
   "name": "python",
   "nbconvert_exporter": "python",
   "pygments_lexer": "ipython3",
   "version": "3.4.3"
  }
 },
 "nbformat": 4,
 "nbformat_minor": 0
}
